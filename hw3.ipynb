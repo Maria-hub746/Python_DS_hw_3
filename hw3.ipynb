{
 "cells": [
  {
   "cell_type": "code",
   "execution_count": 2,
   "metadata": {},
   "outputs": [],
   "source": [
    "import numpy as np\n",
    "import pandas as pd\n",
    "import matplotlib.pyplot as plt\n",
    "import seaborn as sns\n",
    "%matplotlib inline"
   ]
  },
  {
   "cell_type": "code",
   "execution_count": 39,
   "metadata": {},
   "outputs": [],
   "source": [
    "def h(X, w):\n",
    "    return np.dot(X, w)"
   ]
  },
  {
   "cell_type": "code",
   "execution_count": 40,
   "metadata": {},
   "outputs": [],
   "source": [
    "def loss_function(X, y, w):\n",
    "    m = X.shape[0]\n",
    "    return np.square(h(X, w) - y).sum() / (2*m)"
   ]
  },
  {
   "cell_type": "code",
   "execution_count": 23,
   "metadata": {},
   "outputs": [],
   "source": [
    "def gradient(X, y, w):\n",
    "    m = X.shape[0]\n",
    "    res = h(X, w) - y\n",
    "    return np.dot(X.T, res) / m"
   ]
  },
  {
   "cell_type": "code",
   "execution_count": 24,
   "metadata": {},
   "outputs": [],
   "source": [
    "def gradient_step(w, grad, learning_rate = 0.01):\n",
    "    return w - learning_rate * grad.reshape(w.shape)"
   ]
  },
  {
   "cell_type": "code",
   "execution_count": 25,
   "metadata": {},
   "outputs": [],
   "source": [
    "def gradient_descent(X, y, w, num_iter=1000, learning_rate = 0.01):\n",
    "    loss = loss_function(X, y, w)\n",
    "    loss_history = [loss]\n",
    "    min_loss = float('inf')\n",
    "    w_best = None\n",
    "    for i in range(num_iter):\n",
    "        w = gradient_step(X, y, w, learning_rate)\n",
    "        loss = loss_function(X, y, w)\n",
    "        loss_history.append(loss)\n",
    "        \n",
    "        if loss < min_loss:\n",
    "            min_loss = loss\n",
    "            w_best = w\n",
    "\n",
    "    return w, w_best, min_loss, loss_history"
   ]
  },
  {
   "cell_type": "code",
   "execution_count": 41,
   "metadata": {},
   "outputs": [],
   "source": [
    "data = pd.read_csv('Housing.csv')"
   ]
  },
  {
   "cell_type": "code",
   "execution_count": 42,
   "metadata": {},
   "outputs": [],
   "source": [
    "X = data[['area', 'bathrooms', 'bedrooms']].values\n",
    "y = data['price'].values\n",
    "\n",
    "X = (X - X.mean()) / X.std()\n",
    "y = (y - y.mean()) / y.std()\n",
    "X = np.hstack((np.ones((X.shape[0], 1)) , X))\n",
    "y = y.reshape((y.shape[0], 1))\n",
    "\n",
    "n = X.shape[1]\n",
    "w = np.linspace(0, 0, n).reshape((n, 1))"
   ]
  },
  {
   "cell_type": "code",
   "execution_count": 58,
   "metadata": {},
   "outputs": [
    {
     "name": "stdout",
     "output_type": "stream",
     "text": [
      "iteration 1: loss = 0.3563068499104807\n",
      "iteration 101: loss = 0.35630684337247875\n",
      "iteration 201: loss = 0.3563068368344773\n",
      "iteration 301: loss = 0.3563068302964764\n",
      "iteration 401: loss = 0.35630682375847594\n",
      "iteration 501: loss = 0.356306817220476\n",
      "iteration 601: loss = 0.3563068106824767\n",
      "iteration 701: loss = 0.3563068041444778\n",
      "iteration 801: loss = 0.35630679760647943\n",
      "iteration 901: loss = 0.35630679106848145\n",
      "Best weights: [[-0.46550751]\n",
      " [ 0.67516815]\n",
      " [ 0.3049079 ]\n",
      " [ 0.30477885]]\n",
      "Best loss: 0.35630678459586407\n"
     ]
    }
   ],
   "source": [
    "best_loss = float('inf')\n",
    "best_weights = None\n",
    "loss_history = []\n",
    "learning_rate = 0.01\n",
    "num_iterations = 1000\n",
    "for i in range(num_iterations):\n",
    "    grad = gradient(X, y, w)\n",
    "    w = w - learning_rate * grad\n",
    "    loss = loss_function(X, y, w)\n",
    "    loss_history.append(loss)\n",
    "    if loss < best_loss:\n",
    "        best_loss = loss\n",
    "        best_weights = w\n",
    "    \n",
    "    if i % 100 == 0:\n",
    "      print(f\"iteration {i+1}: loss = {loss}\")\n",
    "print(f\"Best weights: {best_weights}\")\n",
    "print(f\"Best loss: {best_loss}\")"
   ]
  },
  {
   "cell_type": "code",
   "execution_count": 61,
   "metadata": {},
   "outputs": [
    {
     "data": {
      "image/png": "[encoded data removed]",
      "text/plain": [
       "<Figure size 640x480 with 1 Axes>"
      ]
     },
     "metadata": {},
     "output_type": "display_data"
    }
   ],
   "source": [
    "plt.plot(loss_history)\n",
    "plt.title('loss function')\n",
    "plt.xlabel('values')\n",
    "plt.ylabel('iterations')\n",
    "plt.show()\n",
    "     "
   ]
  },
  {
   "cell_type": "code",
   "execution_count": 62,
   "metadata": {},
   "outputs": [
    {
     "name": "stdout",
     "output_type": "stream",
     "text": [
      "analitic w:  [1.64622302e+03 5.53491387e-01 2.02545386e+03 5.94491886e+02]\n",
      "analitic loss function:  0.25645846664706196\n"
     ]
    }
   ],
   "source": [
    "analitic_w = np.dot(np.dot(np.linalg.inv(np.dot(X.T, X)), X.T), y)\n",
    "analitic_loss = loss_function(X, y, analitic_w)\n",
    "print('analitic w: ', analitic_w.flatten())\n",
    "print('analitic loss function: ', analitic_loss)"
   ]
  },
  {
   "cell_type": "code",
   "execution_count": 63,
   "metadata": {},
   "outputs": [
    {
     "name": "stdout",
     "output_type": "stream",
     "text": [
      "Learning value loss_function:  0.35630652307638455\n",
      "Analitic value loss_function:  0.25645846664706196\n"
     ]
    }
   ],
   "source": [
    "print('Learning value loss_function: ', min_loss)\n",
    "print('Analitic value loss_function: ', analitic_loss)"
   ]
  }
 ],
 "metadata": {
  "kernelspec": {
   "display_name": "Python 3",
   "language": "python",
   "name": "python3"
  },
  "language_info": {
   "codemirror_mode": {
    "name": "ipython",
    "version": 3
   },
   "file_extension": ".py",
   "mimetype": "text/x-python",
   "name": "python",
   "nbconvert_exporter": "python",
   "pygments_lexer": "ipython3",
   "version": "3.10.6"
  },
  "orig_nbformat": 4
 },
 "nbformat": 4,
 "nbformat_minor": 2
}
